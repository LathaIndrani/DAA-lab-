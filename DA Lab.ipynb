{
 "cells": [
  {
   "cell_type": "code",
   "execution_count": 17,
   "id": "375f256b",
   "metadata": {},
   "outputs": [
    {
     "name": "stdout",
     "output_type": "stream",
     "text": [
      "17\n",
      "5\n",
      "2\n"
     ]
    }
   ],
   "source": [
    "a = [16, 17, 4, 3, 5, 2]\n",
    "b = len(a)\n",
    "c = b-2\n",
    "for i in range(c):\n",
    "    if a[i] < a[i+1]:\n",
    "        print(a[i+1])\n",
    "print(a[-1])"
   ]
  },
  {
   "cell_type": "code",
   "execution_count": 78,
   "id": "66e9e2a1",
   "metadata": {},
   "outputs": [
    {
     "name": "stdout",
     "output_type": "stream",
     "text": [
      "Leader numbers: [17, 5, 2]\n"
     ]
    }
   ],
   "source": [
    "# Leader Code\n",
    "a = [16, 17, 4, 3, 5, 2]\n",
    "leaders = []\n",
    "\n",
    "for i in range(len(a)):\n",
    "    if a[i] == max(a[i:]):\n",
    "        leaders.append(a[i])\n",
    "\n",
    "print(\"Leader numbers:\", leaders)"
   ]
  },
  {
   "cell_type": "code",
   "execution_count": 87,
   "id": "4accc909",
   "metadata": {},
   "outputs": [
    {
     "name": "stdout",
     "output_type": "stream",
     "text": [
      "3\n",
      "6\n",
      "2\n"
     ]
    },
    {
     "ename": "IndexError",
     "evalue": "list index out of range",
     "output_type": "error",
     "traceback": [
      "\u001b[1;31m---------------------------------------------------------------------------\u001b[0m",
      "\u001b[1;31mIndexError\u001b[0m                                Traceback (most recent call last)",
      "Input \u001b[1;32mIn [87]\u001b[0m, in \u001b[0;36m<cell line: 4>\u001b[1;34m()\u001b[0m\n\u001b[0;32m      3\u001b[0m high \u001b[38;5;241m=\u001b[39m []\n\u001b[0;32m      4\u001b[0m \u001b[38;5;28;01mfor\u001b[39;00m i \u001b[38;5;129;01min\u001b[39;00m \u001b[38;5;28mrange\u001b[39m(\u001b[38;5;28mlen\u001b[39m(a)):\n\u001b[1;32m----> 5\u001b[0m     \u001b[38;5;28;01mif\u001b[39;00m a[i] \u001b[38;5;241m>\u001b[39m \u001b[43ma\u001b[49m\u001b[43m[\u001b[49m\u001b[43mi\u001b[49m\u001b[38;5;241;43m+\u001b[39;49m\u001b[38;5;241;43m1\u001b[39;49m\u001b[43m]\u001b[49m:\n\u001b[0;32m      6\u001b[0m         \u001b[38;5;28mprint\u001b[39m(a[i\u001b[38;5;241m+\u001b[39m\u001b[38;5;241m1\u001b[39m])\n\u001b[0;32m      7\u001b[0m     \u001b[38;5;28;01melse\u001b[39;00m:\n",
      "\u001b[1;31mIndexError\u001b[0m: list index out of range"
     ]
    }
   ],
   "source": [
    "# 2nd code\n",
    "a = [4,3,7,8,6,2]\n",
    "high = []\n",
    "for i in range(len(a)):\n",
    "    if a[i] > a[i+1]:\n",
    "        print(a[i+1])\n",
    "    else:\n",
    "        continue"
   ]
  },
  {
   "cell_type": "code",
   "execution_count": 108,
   "id": "ad29404e",
   "metadata": {},
   "outputs": [
    {
     "name": "stdout",
     "output_type": "stream",
     "text": [
      "[3, 7, 4, 8, 2, 6, 1]\n"
     ]
    }
   ],
   "source": [
    "def zigzag(arr, n):\n",
    "    flag = True\n",
    "    for i in range (n - 1):\n",
    "        if flag is True:\n",
    "            if arr[i] > arr[i + 1]:\n",
    "                arr[i], arr [i+1] = arr[i + 1], arr[i]\n",
    "                \n",
    "        else:\n",
    "            if arr[i] < arr[i + 1]:\n",
    "                arr[i], arr[i + 1] = arr[i +1], arr[i]\n",
    "                \n",
    "        flag = bool(1 - flag)\n",
    "    print(arr)  \n",
    "\n",
    "arr = [4, 3, 7, 8, 6, 2, 1]\n",
    "n = len(arr)\n",
    "zigzag(arr, n)"
   ]
  },
  {
   "cell_type": "code",
   "execution_count": 90,
   "id": "64ad9eef",
   "metadata": {},
   "outputs": [
    {
     "name": "stdout",
     "output_type": "stream",
     "text": [
      "Zigzag ordered array: [3, 7, 4, 8, 2, 6, 1]\n"
     ]
    }
   ],
   "source": [
    "a = [4, 3, 7, 8, 6, 2, 1]\n",
    "\n",
    "for i in range(len(a)-1):\n",
    "    if (i % 2 == 0) == (a[i] > a[i+1]):\n",
    "        a[i], a[i+1] = a[i+1], a[i]\n",
    "\n",
    "print(\"Zigzag ordered array:\", a)\n"
   ]
  },
  {
   "cell_type": "code",
   "execution_count": 93,
   "id": "c2de1d8b",
   "metadata": {},
   "outputs": [
    {
     "name": "stdout",
     "output_type": "stream",
     "text": [
      "[3, 7, 8, 6, 2, 1, 4]\n"
     ]
    }
   ],
   "source": [
    "arr = [4,3,7,8,6,2,1]\n",
    "b = len(a)\n",
    "for i in range(b-1):\n",
    "    if (i % 2 == 0) == arr[i] > arr[i + 1]:\n",
    "        arr[i], arr [i+1] = arr[i + 1], arr[i]\n",
    "    else:\n",
    "        arr[i], arr[i + 1] = arr[i +1], arr[i]\n",
    "print(arr)"
   ]
  },
  {
   "cell_type": "code",
   "execution_count": 107,
   "id": "4ad27f6d",
   "metadata": {},
   "outputs": [
    {
     "name": "stdout",
     "output_type": "stream",
     "text": [
      "[1, 2, 3, 4, 6, 7, 8]\n",
      "2 3\n",
      "3 4\n",
      "4 6\n",
      "6 7\n",
      "7 8\n",
      "1\n"
     ]
    }
   ],
   "source": [
    "a = [4,3,7,8,6,2,1]\n",
    "c = a\n",
    "b = a.sort()\n",
    "print(a)\n",
    "for i in range(1,len(a)-1):\n",
    "    print(c[i],c[i+1])\n",
    "    i+=1\n",
    "print(c[0])  \n"
   ]
  },
  {
   "cell_type": "code",
   "execution_count": 10,
   "id": "c93c2005",
   "metadata": {},
   "outputs": [
    {
     "ename": "TypeError",
     "evalue": "'NoneType' object is not subscriptable",
     "output_type": "error",
     "traceback": [
      "\u001b[1;31m---------------------------------------------------------------------------\u001b[0m",
      "\u001b[1;31mTypeError\u001b[0m                                 Traceback (most recent call last)",
      "Input \u001b[1;32mIn [10]\u001b[0m, in \u001b[0;36m<cell line: 5>\u001b[1;34m()\u001b[0m\n\u001b[0;32m      4\u001b[0m c \u001b[38;5;241m=\u001b[39m \u001b[38;5;28mlen\u001b[39m(a)\n\u001b[0;32m      5\u001b[0m \u001b[38;5;28;01mfor\u001b[39;00m i \u001b[38;5;129;01min\u001b[39;00m \u001b[38;5;28mrange\u001b[39m(c):\n\u001b[1;32m----> 6\u001b[0m     \u001b[38;5;28;01mif\u001b[39;00m (i) \u001b[38;5;241m==\u001b[39m (\u001b[43mb\u001b[49m\u001b[43m[\u001b[49m\u001b[43mi\u001b[49m\u001b[43m]\u001b[49m):\n\u001b[0;32m      7\u001b[0m         \u001b[38;5;28mprint\u001b[39m(a[i])\n",
      "\u001b[1;31mTypeError\u001b[0m: 'NoneType' object is not subscriptable"
     ]
    }
   ],
   "source": [
    "#01-09-2023\n",
    "a = [1,2,4,3,6,7,8]\n",
    "b = a.sort()\n",
    "c = len(a)\n",
    "for i in range(c):\n",
    "    if (i) == (b[i]):\n",
    "        print(a[i])"
   ]
  },
  {
   "cell_type": "code",
   "execution_count": 21,
   "id": "6b46e70a",
   "metadata": {},
   "outputs": [
    {
     "ename": "TypeError",
     "evalue": "'int' object is not callable",
     "output_type": "error",
     "traceback": [
      "\u001b[1;31m---------------------------------------------------------------------------\u001b[0m",
      "\u001b[1;31mTypeError\u001b[0m                                 Traceback (most recent call last)",
      "Input \u001b[1;32mIn [21]\u001b[0m, in \u001b[0;36m<cell line: 6>\u001b[1;34m()\u001b[0m\n\u001b[0;32m      5\u001b[0m \u001b[38;5;66;03m#print(a)\u001b[39;00m\n\u001b[0;32m      6\u001b[0m \u001b[38;5;28;01mfor\u001b[39;00m j \u001b[38;5;129;01min\u001b[39;00m \u001b[38;5;28mrange\u001b[39m(\u001b[38;5;241m1\u001b[39m,c\u001b[38;5;241m+\u001b[39m\u001b[38;5;241m1\u001b[39m):\n\u001b[1;32m----> 7\u001b[0m     d \u001b[38;5;241m=\u001b[39m (\u001b[43mj\u001b[49m\u001b[43m(\u001b[49m\u001b[43mj\u001b[49m\u001b[38;5;241;43m+\u001b[39;49m\u001b[38;5;241;43m1\u001b[39;49m\u001b[43m)\u001b[49m)\u001b[38;5;241m/\u001b[39m\u001b[38;5;241m2\u001b[39m\n\u001b[0;32m      8\u001b[0m \u001b[38;5;28mprint\u001b[39m(d)\n",
      "\u001b[1;31mTypeError\u001b[0m: 'int' object is not callable"
     ]
    }
   ],
   "source": [
    "a = [1,2,4,3,6,7,8]\n",
    "c = len(a)\n",
    "#print(c)\n",
    "b = a.sort()\n",
    "#print(a)\n",
    "for j in range(1,c+1):\n",
    "    d = (j(j+1))/2\n",
    "print(d)"
   ]
  },
  {
   "cell_type": "code",
   "execution_count": 23,
   "id": "624a6c3b",
   "metadata": {},
   "outputs": [
    {
     "name": "stdout",
     "output_type": "stream",
     "text": [
      "The missing number is: 5\n"
     ]
    }
   ],
   "source": [
    "def find_missing_number(nums):\n",
    "    n = len(nums) + 1  \n",
    "    expected_sum = n * (n + 1) // 2 \n",
    "\n",
    "    actual_sum = sum(nums)\n",
    "\n",
    "    missing_number = expected_sum - actual_sum \n",
    "    return missing_number\n",
    "numbers = [1, 2, 4, 3, 6, 7, 8]  \n",
    "missing = find_missing_number(numbers)\n",
    "print(\"The missing number is:\", missing)\n"
   ]
  },
  {
   "cell_type": "code",
   "execution_count": 3,
   "id": "2f45dca0",
   "metadata": {},
   "outputs": [
    {
     "name": "stdout",
     "output_type": "stream",
     "text": [
      "7\n"
     ]
    },
    {
     "ename": "TypeError",
     "evalue": "'int' object is not callable",
     "output_type": "error",
     "traceback": [
      "\u001b[1;31m---------------------------------------------------------------------------\u001b[0m",
      "\u001b[1;31mTypeError\u001b[0m                                 Traceback (most recent call last)",
      "Input \u001b[1;32mIn [3]\u001b[0m, in \u001b[0;36m<cell line: 4>\u001b[1;34m()\u001b[0m\n\u001b[0;32m      2\u001b[0m n \u001b[38;5;241m=\u001b[39m \u001b[38;5;28mlen\u001b[39m(a)\n\u001b[0;32m      3\u001b[0m \u001b[38;5;28mprint\u001b[39m(n)\n\u001b[1;32m----> 4\u001b[0m \u001b[38;5;28msum\u001b[39m \u001b[38;5;241m=\u001b[39m (\u001b[43mn\u001b[49m\u001b[43m(\u001b[49m\u001b[43mn\u001b[49m\u001b[38;5;241;43m+\u001b[39;49m\u001b[38;5;241;43m1\u001b[39;49m\u001b[43m)\u001b[49m)\u001b[38;5;241m/\u001b[39m\u001b[38;5;241m/\u001b[39m\u001b[38;5;241m2\u001b[39m\n\u001b[0;32m      5\u001b[0m \u001b[38;5;28mprint\u001b[39m(\u001b[38;5;28msum\u001b[39m)\n",
      "\u001b[1;31mTypeError\u001b[0m: 'int' object is not callable"
     ]
    }
   ],
   "source": [
    "a = [1, 2, 4, 3, 6, 7, 8]\n",
    "n = len(a)\n",
    "print(n)\n",
    "sum = (n(n+1))//2\n",
    "print(sum)"
   ]
  },
  {
   "cell_type": "code",
   "execution_count": 1,
   "id": "40ba4907",
   "metadata": {},
   "outputs": [
    {
     "name": "stdout",
     "output_type": "stream",
     "text": [
      "[1, 2, 3, 4, 6, 7, 8]\n",
      "2\n",
      "3\n",
      "4\n",
      "7\n"
     ]
    }
   ],
   "source": [
    "a = [1, 2, 4, 3, 6, 7, 8]\n",
    "b = a.sort()\n",
    "print(a)\n",
    "count = 0\n",
    "n = len(a)-2\n",
    "for i in range(n):\n",
    "    if a[i+1]-a[i]==1:\n",
    "        count+=0\n",
    "        if count == 1:\n",
    "            break\n",
    "        else:\n",
    "            print(a[i]+1)"
   ]
  },
  {
   "cell_type": "code",
   "execution_count": 4,
   "id": "f55bfc89",
   "metadata": {},
   "outputs": [
    {
     "name": "stdout",
     "output_type": "stream",
     "text": [
      "Three numbers that sum to 9: [1, 3, 5]\n"
     ]
    }
   ],
   "source": [
    "def find_three_numbers(arr, target_sum):\n",
    "    n = len(arr)\n",
    "    arr.sort()\n",
    "    for i in range(n - 2):\n",
    "        left, right = i + 1, n - 1\n",
    "        while left < right:\n",
    "            current_sum = arr[i] + arr[left] + arr[right]\n",
    "            if current_sum == target_sum:\n",
    "                return [arr[i], arr[left], arr[right]]\n",
    "            elif current_sum < target_sum:\n",
    "                left += 1\n",
    "            else:\n",
    "                right -= 1\n",
    "    return []\n",
    "arr = [1, 2, 3, 4, 5]\n",
    "target_sum = 9\n",
    "\n",
    "result = find_three_numbers(arr, target_sum)\n",
    "if result:\n",
    "    print(\"Three numbers that sum to 9:\", result)\n",
    "else:\n",
    "    print(\"No such triplet found.\")"
   ]
  },
  {
   "cell_type": "code",
   "execution_count": 29,
   "id": "ed6b4ccf",
   "metadata": {},
   "outputs": [
    {
     "name": "stdout",
     "output_type": "stream",
     "text": [
      "1 3 5\n",
      "2 3 4\n"
     ]
    }
   ],
   "source": [
    "#sum of three numbers \n",
    "a = [1,2,3,4,5]\n",
    "l = len(a)\n",
    "for i in range(l):\n",
    "    for j in range(i+1,l):\n",
    "        for k in range(j+1,l):\n",
    "            if(a[i]+a[j]+a[k]==9):\n",
    "                print(a[i], a[j], a[k])          "
   ]
  },
  {
   "cell_type": "code",
   "execution_count": 36,
   "id": "c55ba7ef",
   "metadata": {},
   "outputs": [
    {
     "name": "stdout",
     "output_type": "stream",
     "text": [
      "1 3 5\n",
      "2 4 3\n"
     ]
    }
   ],
   "source": [
    "#sum of three numbers\n",
    "a =[1,2,3,4,5]\n",
    "l = len(a)\n",
    "for i in range(l-2):\n",
    "    for j in range(i+1,l):\n",
    "         if(a[i]+a[i+2]+a[j]==9):\n",
    "                print(a[i],a[i+2],a[j])"
   ]
  },
  {
   "cell_type": "code",
   "execution_count": 30,
   "id": "b79cdac7",
   "metadata": {},
   "outputs": [
    {
     "name": "stdout",
     "output_type": "stream",
     "text": [
      "12 3 9\n"
     ]
    }
   ],
   "source": [
    "#sum of three numbers\n",
    "a =[12,3,4,1,6,9]\n",
    "l = len(a)\n",
    "for i in range(l-2):\n",
    "    for j in range(i+1,l):\n",
    "         for k in range(j+1,l):\n",
    "            if(a[i]+a[j]+a[k]==24):\n",
    "                print(a[i], a[j], a[k])          "
   ]
  },
  {
   "cell_type": "code",
   "execution_count": 34,
   "id": "0f9a7602",
   "metadata": {},
   "outputs": [
    {
     "name": "stdout",
     "output_type": "stream",
     "text": [
      "12 3 9\n"
     ]
    }
   ],
   "source": [
    "#sum of three numbers\n",
    "a =[12,3,4,1,6,9]\n",
    "l = len(a)\n",
    "for i in range(l-2):\n",
    "    for j in range(i+1,l):\n",
    "         if(a[i]+a[i+1]+a[j]==24):\n",
    "                print(a[i],a[i+1],a[j])"
   ]
  },
  {
   "cell_type": "code",
   "execution_count": 40,
   "id": "70e98297",
   "metadata": {},
   "outputs": [
    {
     "name": "stdout",
     "output_type": "stream",
     "text": [
      "000111222"
     ]
    }
   ],
   "source": [
    "a=[0,0,1,2,0,1,2,2,1]\n",
    "l = len(a)\n",
    "for i in range(l):\n",
    "    if(a[i]==0):\n",
    "        print(a[i],end=\"\")\n",
    "for i in range(l):\n",
    "    if(a[i]==1):\n",
    "        print(a[i],end=\"\")\n",
    "for i in range(l):\n",
    "    if(a[i]==2):\n",
    "        print(a[i],end=\"\")"
   ]
  },
  {
   "cell_type": "code",
   "execution_count": 33,
   "id": "1ccf1e99",
   "metadata": {},
   "outputs": [
    {
     "name": "stdout",
     "output_type": "stream",
     "text": [
      "[[ 1  2  3  4]\n",
      " [ 5  6  7  8]\n",
      " [ 9 10 11 12]\n",
      " [13 14 15 16]]\n",
      "1\n",
      "2\n",
      "3\n",
      "4\n",
      "8\n",
      "12\n",
      "16\n",
      "13\n",
      "14\n",
      "15\n",
      "5\n",
      "9\n",
      "6\n",
      "7\n",
      "10\n",
      "11\n"
     ]
    }
   ],
   "source": [
    "#print spiral matrix\n",
    "import numpy as np\n",
    "x = np.arange(1, 17).reshape(4, 4)\n",
    "x\n",
    "print(x)\n",
    "for i in range(4):\n",
    "    for j in range(4):\n",
    "        if (i ==0 and j <3 ):\n",
    "            print(x[i][j])\n",
    "for i in range(4):\n",
    "    for j in range(4):\n",
    "        if (i<3 and j==3):\n",
    "            print(x[i][j])\n",
    "for i in range(4):\n",
    "    for j in range(4):\n",
    "        if (i==3):\n",
    "            j=j-1\n",
    "            print(x[i][j])\n",
    "for i in range(4):\n",
    "    for j in range(4):\n",
    "        if((i==2 or i ==1) and (j==0)):\n",
    "            print(x[i][j])\n",
    "for i in range(4):\n",
    "    for j in range(4):\n",
    "        if(i ==1 and 0<j<3):\n",
    "            print(x[i][j])\n",
    "for i in range(4):\n",
    "    for j in range(4):\n",
    "        if(i==2 and 0<j<3):\n",
    "            print(x[i][j])"
   ]
  },
  {
   "cell_type": "code",
   "execution_count": 8,
   "id": "e9061a76",
   "metadata": {},
   "outputs": [],
   "source": [
    "# MERGE SORT\n",
    "a=[6,4,2,1,9,8,3,5]\n",
    "i =[]\n",
    "b = len(a)\n",
    "c = (b//2)-1\n",
    "d = b-c\n",
    "for i in range(c):\n",
    "    e = [c/2]\n",
    "    if e==2:\n",
    "        if a[1]>a[0]:\n",
    "            i.append(a[1])\n",
    "        else:\n",
    "            i.append(a[0],a[1])  "
   ]
  },
  {
   "cell_type": "code",
   "execution_count": 2,
   "id": "5eb62822",
   "metadata": {},
   "outputs": [
    {
     "name": "stdout",
     "output_type": "stream",
     "text": [
      "Sorted array: [1, 2, 3, 4, 5, 6, 8, 9]\n"
     ]
    }
   ],
   "source": [
    "def merge_sort(arr):\n",
    "    if len(arr) <= 1:\n",
    "        return arr\n",
    "\n",
    "    mid = len(arr) // 2\n",
    "    left_half = arr[:mid]\n",
    "    right_half = arr[mid:]\n",
    "\n",
    "    left_half = merge_sort(left_half)\n",
    "    right_half = merge_sort(right_half)\n",
    "\n",
    "    return merge(left_half, right_half)\n",
    "\n",
    "def merge(left, right):\n",
    "    result = []\n",
    "    i = j = 0\n",
    "\n",
    "    while i < len(left) and j < len(right):\n",
    "        if left[i] < right[j]:\n",
    "            result.append(left[i])\n",
    "            i += 1\n",
    "        else:\n",
    "            result.append(right[j])\n",
    "            j += 1\n",
    "\n",
    "    result.extend(left[i:])\n",
    "    result.extend(right[j:])\n",
    "    return result\n",
    "\n",
    "# Example usage:\n",
    "my_list = [6,4,2,1,9,8,3,5]\n",
    "sorted_list = merge_sort(my_list)\n",
    "print(\"Sorted array:\", sorted_list)\n"
   ]
  },
  {
   "cell_type": "code",
   "execution_count": 9,
   "id": "e681deda",
   "metadata": {},
   "outputs": [
    {
     "name": "stdout",
     "output_type": "stream",
     "text": [
      "[1, 2, 3, 4, 5, 6, 8, 9]\n"
     ]
    }
   ],
   "source": [
    "    def mergeSort(arr):\n",
    "        if len(arr) > 1:\n",
    "            mid = len(arr)//2\n",
    "            sub_array1 = arr[:mid]\n",
    "            sub_array2 = arr[mid:]\n",
    "            mergeSort(sub_array1)\n",
    "            mergeSort(sub_array2)\n",
    "            i = j = k = 0\n",
    "            while i < len(sub_array1) and j < len(sub_array2):\n",
    "                if sub_array1[i] < sub_array2[j]:\n",
    "                    arr[k] = sub_array1[i]\n",
    "                    i += 1\n",
    "                else:\n",
    "                    arr[k] = sub_array2[j]\n",
    "                    j += 1\n",
    "                k += 1\n",
    "            while i < len(sub_array1):\n",
    "                arr[k] = sub_array1[i]\n",
    "                i += 1\n",
    "                k += 1\n",
    "            while j < len(sub_array2):\n",
    "                arr[k] = sub_array2[j]\n",
    "                j += 1\n",
    "                k += 1\n",
    " \n",
    "    arr = [6,4,2,1,9,8,3,5]\n",
    "    mergeSort(arr)\n",
    "    print(arr)\n"
   ]
  },
  {
   "cell_type": "code",
   "execution_count": 31,
   "id": "9f33bc71",
   "metadata": {},
   "outputs": [
    {
     "name": "stdout",
     "output_type": "stream",
     "text": [
      "Sorted array: [1, 2, 3, 4, 5, 6, 8, 9]\n"
     ]
    }
   ],
   "source": [
    "\n",
    "def merge_sort(A, p, r):\n",
    "    if p < r:\n",
    "        q = (p + r) // 2\n",
    "        merge_sort(A, p, q)       \n",
    "        merge_sort(A, q + 1, r)   \n",
    "        merge(A, p, q, r)         \n",
    "\n",
    "\n",
    "def merge(A, p, q, r):\n",
    "    n1 = q - p + 1\n",
    "    n2 = r - q\n",
    "\n",
    "    \n",
    "    L = [0] * (n1 + 1)\n",
    "    R = [0] * (n2 + 1)\n",
    "\n",
    "    \n",
    "    for i in range(n1):\n",
    "        L[i] = A[p + i]\n",
    "    for j in range(n2):\n",
    "        R[j] = A[q + 1 + j]\n",
    "\n",
    "   \n",
    "    L[n1] = float('inf')\n",
    "    R[n2] = float('inf')\n",
    "\n",
    "    i = 0\n",
    "    j = 0\n",
    "\n",
    "    \n",
    "    for k in range(p, r + 1):\n",
    "        if L[i] <= R[j]:\n",
    "            A[k] = L[i]\n",
    "            i += 1\n",
    "        else:\n",
    "            A[k] = R[j]\n",
    "            j += 1\n",
    "\n",
    "\n",
    "arr = [6,4,2,1,9,8,3,5]\n",
    "merge_sort(arr, 0, len(arr) - 1)\n",
    "print(\"Sorted array:\", arr)"
   ]
  },
  {
   "cell_type": "code",
   "execution_count": 17,
   "id": "533bd511",
   "metadata": {},
   "outputs": [
    {
     "name": "stdout",
     "output_type": "stream",
     "text": [
      "{1, 10, 11, 12}\n"
     ]
    }
   ],
   "source": [
    "a=[1,10,11,12,11,1]\n",
    "b =[]\n",
    "for i in range(len(a)-1):\n",
    "        if a[i]!=a[i+1]:\n",
    "            b.append(a[i])\n",
    "            c = set(b)\n",
    "print(c)"
   ]
  },
  {
   "cell_type": "code",
   "execution_count": 22,
   "id": "bff79bca",
   "metadata": {},
   "outputs": [
    {
     "name": "stdout",
     "output_type": "stream",
     "text": [
      "[1, 10, 11, 12, 11]\n"
     ]
    }
   ],
   "source": [
    "a = [1,10,11,12,11,1]\n",
    "b = []\n",
    "for i in range(len(a)-1):\n",
    "        if a[i]==a[i+1]:\n",
    "            continue\n",
    "        else:\n",
    "            b.append(a[i])\n",
    "print(b)"
   ]
  },
  {
   "cell_type": "code",
   "execution_count": null,
   "id": "b7273c75",
   "metadata": {},
   "outputs": [],
   "source": [
    "# Linked list\n",
    "List=LinkedList()\n",
    "List.head=Node('Mon')\n",
    "e2=Node('tue')\n",
    "e3=Node('Thur')\n",
    "List.head.next=e2\n",
    "e2.next=e3\n",
    "List.ADBEG(\"sun\")\n",
    "List.Inbet(e2,\"wed\")\n",
    "List.ADEND(\"Fri\")\n",
    "List.printL()\n",
    "List.RemoveNode(\"tue\")\n",
    "List.printL()"
   ]
  },
  {
   "cell_type": "code",
   "execution_count": 23,
   "id": "3439254c",
   "metadata": {},
   "outputs": [
    {
     "ename": "SyntaxError",
     "evalue": "invalid syntax (1244539619.py, line 5)",
     "output_type": "error",
     "traceback": [
      "\u001b[1;36m  Input \u001b[1;32mIn [23]\u001b[1;36m\u001b[0m\n\u001b[1;33m    while\u001b[0m\n\u001b[1;37m         ^\u001b[0m\n\u001b[1;31mSyntaxError\u001b[0m\u001b[1;31m:\u001b[0m invalid syntax\n"
     ]
    }
   ],
   "source": [
    "class cll:\n",
    "    def __init__(self,data,next=None):\n",
    "        self.head = head\n",
    "        self.next = next\n",
    "\n",
    "node1 = listnode(1)\n",
    "node2 = listnode(2)\n",
    "node3 = listnode(3)\n",
    "node4 = listnode(4)\n",
    "\n",
    "node1.next = node2\n",
    "node2.next = node3\n",
    "node3.next = node4\n",
    "node4.next = node2\n",
    "\n",
    "while"
   ]
  },
  {
   "cell_type": "code",
   "execution_count": 32,
   "id": "7c34c3ca",
   "metadata": {},
   "outputs": [
    {
     "name": "stdout",
     "output_type": "stream",
     "text": [
      "Sorted array: [-7, 0, 1, 2, 3, 4, 5, 6, 8, 9]\n"
     ]
    }
   ],
   "source": [
    "# MERGE SORT\n",
    "def MSort(a):\n",
    "    if len(a) > 1:\n",
    "        mid = len(a)//2\n",
    "        s1 = a[:mid]\n",
    "        s2 = a[mid:]\n",
    "        MSort(s1)\n",
    "        MSort(s2)\n",
    "        i = j = k = 0\n",
    "        while i < len(s1) and j < len(s2):\n",
    "            if s1[i] < s2[j]:\n",
    "                a[k] = s1[i]\n",
    "                i += 1\n",
    "            else:\n",
    "                a[k] = s2[j]\n",
    "                j += 1\n",
    "            k += 1\n",
    "        while i < len(s1):\n",
    "            a[k] = s1[i]\n",
    "            i += 1\n",
    "            k += 1\n",
    "        while j < len(s2):\n",
    "            a[k] = s2[j]\n",
    "            j += 1\n",
    "            k += 1\n",
    "a = [6,4,2,1,9,8,3,0,5,-7]\n",
    "MSort(a)\n",
    "print(\"Sorted array:\",a)"
   ]
  },
  {
   "cell_type": "code",
   "execution_count": 8,
   "id": "d2b49677",
   "metadata": {},
   "outputs": [
    {
     "name": "stdout",
     "output_type": "stream",
     "text": [
      "12 33 43 \n",
      "11 32 42 \n",
      "10 31 41 "
     ]
    }
   ],
   "source": [
    "import numpy as np\n",
    "values = [10, 11, 12, 31, 32, 33, 41, 42, 43]\n",
    "x = np.array(values).reshape(3, 3)\n",
    "for i in range(3):\n",
    "    for j in range(3):\n",
    "        if(i<3 and j==2):\n",
    "            print(x[i][j],end=\" \")\n",
    "print(\"\")\n",
    "for i in range(3):\n",
    "    for j in range(3):\n",
    "        if(i<3 and j==1):\n",
    "            print(x[i][j],end=\" \")  \n",
    "print(\"\")\n",
    "for i in range(3):\n",
    "    for j in range(3):\n",
    "        if(i<3 and j==0):\n",
    "            print(x[i][j],end=\" \")"
   ]
  },
  {
   "cell_type": "code",
   "execution_count": 14,
   "id": "3730361f",
   "metadata": {},
   "outputs": [
    {
     "name": "stdout",
     "output_type": "stream",
     "text": [
      "[[0 1 2]\n",
      " [3 4 5]\n",
      " [6 7 8]]\n",
      "\n",
      "[[2 1 0]\n",
      " [3 4 5]\n",
      " [8 7 6]]\n"
     ]
    }
   ],
   "source": [
    "import numpy as np\n",
    "values = [0,1,2,3,4,5,6,7,8]\n",
    "x = np.array(values).reshape(3, 3)\n",
    "print(x)\n",
    "print(\"\")\n",
    "for i in range(3):\n",
    "    for j in range(3):\n",
    "        x[0][0],x[0][2] = x[0][2],x[0][0] \n",
    "        x[2][0],x[2][2] = x[2][2],x[2][0]\n",
    "print(x)"
   ]
  },
  {
   "cell_type": "code",
   "execution_count": 18,
   "id": "f6553a0e",
   "metadata": {},
   "outputs": [
    {
     "name": "stdout",
     "output_type": "stream",
     "text": [
      "[2, 1, 2, 3, 4, 5, 6, 7, 8, 9]\n"
     ]
    }
   ],
   "source": [
    "a=[2,5,6,1,3,4,10,9,8,7]\n",
    "for i in range(1,len(a)):\n",
    "    a[i]=i\n",
    "print(a)"
   ]
  },
  {
   "cell_type": "code",
   "execution_count": 19,
   "id": "1d69033e",
   "metadata": {},
   "outputs": [
    {
     "name": "stdout",
     "output_type": "stream",
     "text": [
      "[0, 1, 2, 3, 4, 5, 6, 7, 8, 9]\n"
     ]
    }
   ],
   "source": [
    "a=[2,3,1,0,4,5,7,6,9,8]\n",
    "for i in range(len(a)):\n",
    "    a[i]=i\n",
    "print(a)"
   ]
  },
  {
   "cell_type": "code",
   "execution_count": 24,
   "id": "f196901f",
   "metadata": {},
   "outputs": [
    {
     "name": "stdout",
     "output_type": "stream",
     "text": [
      "[2, 3, 1, 0, 4, 5, 7, 6, 9, 8]\n"
     ]
    }
   ],
   "source": [
    "a=[2,3,1,0,4,5,7,6,9,8]\n",
    "for i in range(len(a)):\n",
    "    temp = a[i]\n",
    "    i = temp\n",
    "    i = a[i]\n",
    "print(a)"
   ]
  },
  {
   "cell_type": "code",
   "execution_count": 26,
   "id": "7909c5a2",
   "metadata": {},
   "outputs": [
    {
     "name": "stdout",
     "output_type": "stream",
     "text": [
      "[0, 1, 2, 3, 4, 5, 6, 7, 8, 9]\n"
     ]
    }
   ],
   "source": [
    "array = [2, 3, 1, 0, 4, 5, 7, 6, 9, 8]\n",
    "\n",
    "for i in range(len(array)):\n",
    "    min_index = i\n",
    "    for j in range(i + 1, len(array)):\n",
    "        if array[j] < array[min_index]:\n",
    "            min_index = j\n",
    "\n",
    "    if min_index != i:\n",
    "        array[i], array[min_index] = array[min_index], array[i]\n",
    "print(array)"
   ]
  },
  {
   "cell_type": "code",
   "execution_count": 28,
   "id": "9dda65e4",
   "metadata": {},
   "outputs": [
    {
     "name": "stdout",
     "output_type": "stream",
     "text": [
      "[0, 1, 2, 3, 4, 5, 6, 7, 8, 9]\n"
     ]
    }
   ],
   "source": [
    "array = [2, 3, 1, 0, 4, 5, 7, 6, 9, 8]\n",
    "new_array = [ ]\n",
    "for i in range(len(array)):\n",
    "    min_value = min(array)\n",
    "    new_array.append(min_value)\n",
    "    array.remove(min_value)\n",
    "print(new_array)"
   ]
  },
  {
   "cell_type": "code",
   "execution_count": null,
   "id": "38928718",
   "metadata": {},
   "outputs": [],
   "source": [
    "# RED-BLACK TREE\n",
    ",lo\n",
    "nhi ij bih ih bhi bnhi  bi\n",
    "bhi\n",
    "h' nijo\n",
    "hyi'lnuonuo;nu9io; huio; bhuio;bhuo;hio;.hnui;ohnu9i'o;hniolhnuiolhyijohniol'njio'hnu9\n",
    "obhnyio'gbyhi'obi'ob\n",
    "\\b\n",
    "i'b'b'ob'iynmlhnjjuhk"
   ]
  },
  {
   "cell_type": "code",
   "execution_count": null,
   "id": "200dd7ba",
   "metadata": {},
   "outputs": [],
   "source": [
    "def minimize_curse(teachers, D):\n",
    "    teachers.sort(key=lambda teacher: teacher[2])\n",
    "    curse_level = 0  \n",
    "    schedule = [0] * (D + 1)\n",
    "    for teacher in teachers:\n",
    "        arrival_day, required_lectures, curse_increase = teacher\n",
    "        for day in range(arrival_day, min(D, arrival_day + required_lectures)):\n",
    "            if schedule[day] < required_lectures:\n",
    "                schedule[day] += 1\n",
    "            else:\n",
    "                break\n",
    "        untaught_lectures = required_lectures - sum(schedule[arrival_day:arrival_day + required_lectures])\n",
    "        curse_level += untaught_lectures * curse_increase\n",
    "    return curse_level\n",
    "teachers = [(2, 3, 5), (1, 2, 10), (3, 1, 2)]\n",
    "D = 4\n",
    "min_curse = minimize_curse(teachers, D)\n",
    "print(min_curse)"
   ]
  },
  {
   "cell_type": "code",
   "execution_count": 2,
   "id": "349a2fe8",
   "metadata": {},
   "outputs": [
    {
     "name": "stdout",
     "output_type": "stream",
     "text": [
      "Nachos Chichos chilli beans\n"
     ]
    }
   ],
   "source": [
    "print(\"Nachos Chichos chilli beans\")"
   ]
  },
  {
   "cell_type": "code",
   "execution_count": 4,
   "id": "1c531277",
   "metadata": {},
   "outputs": [
    {
     "name": "stdout",
     "output_type": "stream",
     "text": [
      "[6, 7, 8]\n"
     ]
    }
   ],
   "source": [
    "matrix= [6,7,8]\n",
    "print(matrix)"
   ]
  },
  {
   "cell_type": "code",
   "execution_count": 5,
   "id": "b505bc8a",
   "metadata": {},
   "outputs": [
    {
     "name": "stdout",
     "output_type": "stream",
     "text": [
      "3\n",
      "4\n",
      "2\n",
      "2\n"
     ]
    }
   ],
   "source": [
    "matrix = [[1, 0, 1, 1],\n",
    "          [1, 1, 1, 1],\n",
    "          [1, 0, 1, 0],\n",
    "          [1, 0, 0, 1]]\n",
    "a = len(matrix)\n",
    "for i in range(a):\n",
    "    count = 0\n",
    "    for j in range(a):\n",
    "        if(matrix[i][j] == 1):\n",
    "            count+=1\n",
    "        else:\n",
    "            continue\n",
    "    print(count)    "
   ]
  },
  {
   "cell_type": "code",
   "execution_count": 23,
   "id": "fe1f0dba",
   "metadata": {},
   "outputs": [
    {
     "name": "stdout",
     "output_type": "stream",
     "text": [
      "[[7 6 5]\n",
      " [1 2 3]\n",
      " [8 4 9]]\n",
      "[[1 2 3]\n",
      " [4 5 6]\n",
      " [7 8 9]]\n",
      "[[0 6 0]\n",
      " [1 0 3]\n",
      " [0 4 0]]\n"
     ]
    }
   ],
   "source": [
    "import numpy as py\n",
    "x = [7,6,5,1,2,3,8,4,9]\n",
    "y = np.array(x).reshape(3, 3)\n",
    "print(y)\n",
    "for i in range(len(x)):\n",
    "    min_index = i\n",
    "    for j in range(i + 1, len(x)):\n",
    "        if x[j] < x[min_index]:\n",
    "            min_index = j\n",
    "    if min_index != i:\n",
    "        x[i], x[min_index] = x[min_index], x[i]\n",
    "z = np.array(x).reshape(3, 3)\n",
    "print(z)\n",
    "for i in range(3):\n",
    "    for j in range(3):\n",
    "        if i == j:\n",
    "            y[i][j] = 0\n",
    "        elif((i==0 and j==2) or (i==2 and j==0)):\n",
    "            y[i][j] = 0\n",
    "a = np.array(y).reshape(3,3)\n",
    "print(a)"
   ]
  },
  {
   "cell_type": "code",
   "execution_count": 2,
   "id": "ca492b06",
   "metadata": {},
   "outputs": [
    {
     "name": "stdout",
     "output_type": "stream",
     "text": [
      "Enter your first number: 0\n",
      "Enter your second number: -3333\n",
      "0\n"
     ]
    }
   ],
   "source": [
    "a = int(input(\"Enter your first number: \"))\n",
    "b = int(input(\"Enter your second number: \"))\n",
    "i=0\n",
    "c=0\n",
    "while i<b:\n",
    "    c+=a\n",
    "    i+=1\n",
    "print(c)"
   ]
  },
  {
   "cell_type": "code",
   "execution_count": 3,
   "id": "b23cd6fe",
   "metadata": {},
   "outputs": [
    {
     "name": "stdout",
     "output_type": "stream",
     "text": [
      "Enter your first number: -33\n",
      "Enter your second number: 15\n",
      "-495\n"
     ]
    }
   ],
   "source": [
    "a = int(input(\"Enter your first number: \"))\n",
    "b = int(input(\"Enter your second number: \"))\n",
    "def multiply(x, y):\n",
    "    if y == 0:\n",
    "        return 0\n",
    "    if y > 0:\n",
    "        return x + multiply(x, y - 1)\n",
    "    if y < 0:\n",
    "        return - multiply(x, -y)\n",
    "result = multiply(a,b)\n",
    "print(result) "
   ]
  },
  {
   "cell_type": "code",
   "execution_count": 1,
   "id": "f13bb285",
   "metadata": {},
   "outputs": [
    {
     "name": "stdout",
     "output_type": "stream",
     "text": [
      "Enter numbers: 21222222222222222222222222222222\n"
     ]
    }
   ],
   "source": [
    "a = int(input(\"Enter numbers: \"))\n"
   ]
  },
  {
   "cell_type": "code",
   "execution_count": 2,
   "id": "891ecff0",
   "metadata": {},
   "outputs": [
    {
     "ename": "NameError",
     "evalue": "name '_name_' is not defined",
     "output_type": "error",
     "traceback": [
      "\u001b[1;31m---------------------------------------------------------------------------\u001b[0m",
      "\u001b[1;31mNameError\u001b[0m                                 Traceback (most recent call last)",
      "Input \u001b[1;32mIn [2]\u001b[0m, in \u001b[0;36m<cell line: 22>\u001b[1;34m()\u001b[0m\n\u001b[0;32m     19\u001b[0m         root \u001b[38;5;241m=\u001b[39m insert(root, node)\n\u001b[0;32m     20\u001b[0m     \u001b[38;5;28;01mreturn\u001b[39;00m root\n\u001b[1;32m---> 22\u001b[0m \u001b[38;5;28;01mif\u001b[39;00m \u001b[43m_name_\u001b[49m \u001b[38;5;241m==\u001b[39m \u001b[38;5;124m\"\u001b[39m\u001b[38;5;124m_main_\u001b[39m\u001b[38;5;124m\"\u001b[39m:\n\u001b[0;32m     23\u001b[0m     root \u001b[38;5;241m=\u001b[39m take_user_input()\n\u001b[0;32m     24\u001b[0m     \u001b[38;5;28mprint\u001b[39m(\u001b[38;5;124m\"\u001b[39m\u001b[38;5;124mInorder Traversal:\u001b[39m\u001b[38;5;124m\"\u001b[39m)\n",
      "\u001b[1;31mNameError\u001b[0m: name '_name_' is not defined"
     ]
    }
   ],
   "source": [
    "class Node:\n",
    "    def _init_(self, key):\n",
    "        self.key = key\n",
    "        self.left = self.right = None\n",
    "\n",
    "def insert(root, key):\n",
    "    return Node(key) if root is None else (insert(root.left, key) if key < root.key else insert(root.right, key))\n",
    "\n",
    "def inorder_traversal(root):\n",
    "    if root:\n",
    "        inorder_traversal(root.left)\n",
    "        print(root.key, end=' ')\n",
    "        inorder_traversal(root.right)\n",
    "\n",
    "def take_user_input():\n",
    "    nodes = list(map(int, input(\"Enter nodes (space-separated): \").split()))\n",
    "    root = None\n",
    "    for node in nodes:\n",
    "        root = insert(root, node)\n",
    "    return root\n",
    "\n",
    "if _name_ == \"_main_\":\n",
    "    root = take_user_input()\n",
    "    print(\"Inorder Traversal:\")\n",
    "    inorder_traversal(root)"
   ]
  },
  {
   "cell_type": "code",
   "execution_count": 8,
   "id": "2c9c5464",
   "metadata": {},
   "outputs": [
    {
     "name": "stdout",
     "output_type": "stream",
     "text": [
      "Enter the elements to search for: 5\n",
      "Not found\n"
     ]
    }
   ],
   "source": [
    "class Node:\n",
    "    def __init__ (self,value):\n",
    "        self.value = value\n",
    "        self.left = None\n",
    "        self.right = None\n",
    "def search_bst(root,ele):\n",
    "    if root is None:\n",
    "        return False\n",
    "    if root.value == ele:\n",
    "        return True\n",
    "    if ele < root.value:\n",
    "        return search_bst(root.left, ele)\n",
    "    else:\n",
    "        return search_bst(root.right, ele)\n",
    "root = Node(10)\n",
    "root.left = Node(8)\n",
    "root.right = Node(20)\n",
    "root.left.left = Node(7)\n",
    "root.left.right = Node(9)\n",
    "root.right.left = Node(15)\n",
    "root.right.right = Node(21)\n",
    "ele = int(input(\"Enter the elements to search for: \"))\n",
    "found = search_bst(root,ele)\n",
    "if found:\n",
    "    print(\"Found\".format(ele))\n",
    "else:\n",
    "    print(\"Not found\". format(ele))"
   ]
  },
  {
   "cell_type": "code",
   "execution_count": 10,
   "id": "3102b6ea",
   "metadata": {},
   "outputs": [
    {
     "name": "stdout",
     "output_type": "stream",
     "text": [
      "The sum of all leaf nodes is  52\n"
     ]
    }
   ],
   "source": [
    "class Node:\n",
    "    def __init__ (self,value):\n",
    "        self.value = value\n",
    "        self.left = None\n",
    "        self.right = None\n",
    "def sumofleafnodes(root):\n",
    "    if root is None:\n",
    "        return 0\n",
    "    elif root.left is None and root.right is None:\n",
    "        return root.value\n",
    "    return sumofleafnodes(root.left) + sumofleafnodes(root.right)\n",
    "root = Node(10)\n",
    "root.left = Node(8)\n",
    "root.right = Node(20)\n",
    "root.left.left = Node(7)\n",
    "root.left.right = Node(9)\n",
    "root.right.left = Node(15)\n",
    "root.right.right = Node(21)\n",
    "sum = sumofleafnodes(root)\n",
    "print(\"The sum of all leaf nodes is \",format(sum))"
   ]
  },
  {
   "cell_type": "code",
   "execution_count": 13,
   "id": "88835c6b",
   "metadata": {},
   "outputs": [
    {
     "name": "stdout",
     "output_type": "stream",
     "text": [
      "Spiral Order traversal of the BST:\n",
      "1 3 2 4 5 6 7 15 14 13 12 11 10 9 8 "
     ]
    }
   ],
   "source": [
    "class Node:\n",
    "    def __init__(self, key):\n",
    "        self.data = key\n",
    "        self.left = None\n",
    "        self.right = None\n",
    "def printSpiral(root):\n",
    "    if root is None:\n",
    "        return\n",
    "    stack1 = []  \n",
    "    stack2 = []  \n",
    "    stack1.append(root)  # Start with the root node\n",
    "    while stack1 or stack2:\n",
    "        while stack1:\n",
    "            node = stack1.pop()\n",
    "            print(node.data, end=\" \")\n",
    "\n",
    "            if node.left:\n",
    "                stack2.append(node.left)\n",
    "            if node.right:\n",
    "                stack2.append(node.right)\n",
    "        while stack2:\n",
    "            node = stack2.pop()\n",
    "            print(node.data, end=\" \")\n",
    "            if node.right:\n",
    "                stack1.append(node.right)\n",
    "            if node.left:\n",
    "                stack1.append(node.left)\n",
    "root = Node(1)\n",
    "root.left = Node(2)\n",
    "root.right = Node(3)\n",
    "root.left.left = Node(4)\n",
    "root.left.right = Node(5)\n",
    "root.right.left = Node(6)\n",
    "root.right.right = Node(7)\n",
    "root.left.left.left = Node(8)\n",
    "root.left.left.right = Node(9)\n",
    "root.left.right.left = Node(10)\n",
    "root.left.right.right = Node(11)\n",
    "root.right.left.left = Node(12)\n",
    "root.right.left.right = Node(13)\n",
    "root.right.right.left = Node(14)\n",
    "root.right.right.right = Node(15)\n",
    "print(\"Spiral Order traversal of the BST:\")\n",
    "printSpiral(root)"
   ]
  },
  {
   "cell_type": "code",
   "execution_count": 3,
   "id": "1e351e24",
   "metadata": {},
   "outputs": [
    {
     "name": "stdout",
     "output_type": "stream",
     "text": [
      "2 3\n",
      "1 1 100\n",
      "2 2 300\n",
      "0\n"
     ]
    }
   ],
   "source": [
    "# Input parsing\n",
    "N, D = map(int, input().split())\n",
    "teachers = []\n",
    "for _ in range(N):\n",
    "    teachers.append(list(map(int, input().split())))\n",
    "\n",
    "# Sorting the teachers based on their arrival day\n",
    "teachers.sort(key=lambda x: x[0])\n",
    "\n",
    "curse_level = 0\n",
    "lectures_scheduled = 0\n",
    "\n",
    "for teacher in teachers:\n",
    "    if D <= teacher[0]:\n",
    "        break\n",
    "\n",
    "    possible_lectures = min(D - teacher[0] + 1, teacher[1] - lectures_scheduled)\n",
    "    curse_level += teacher[2] * (teacher[1] - possible_lectures - lectures_scheduled)\n",
    "    lectures_scheduled += possible_lectures\n",
    "\n",
    "print(curse_level)\n"
   ]
  },
  {
   "cell_type": "code",
   "execution_count": 7,
   "id": "ebd3ea0b",
   "metadata": {},
   "outputs": [
    {
     "name": "stdout",
     "output_type": "stream",
     "text": [
      "4 4\n",
      "1 2 3 \n",
      "1 3 2\n",
      "2 4 2\n",
      "3 4 3\n",
      "inf\n"
     ]
    }
   ],
   "source": [
    "import heapq\n",
    "\n",
    "def dijkstra(graph, start, end, unsafe):\n",
    "    n = len(graph)\n",
    "    distances = [float('inf')] * n\n",
    "    distances[start] = 0\n",
    "    heap = [(0, start)]\n",
    "\n",
    "    while heap:\n",
    "        (dist, current) = heapq.heappop(heap)\n",
    "\n",
    "        if current == end:\n",
    "            return distances[end]\n",
    "\n",
    "        for neighbor, weight in graph[current]:\n",
    "            if dist + weight < distances[neighbor] and not (unsafe[neighbor] <= dist + weight < unsafe[neighbor] + 5):\n",
    "                distances[neighbor] = dist + weight\n",
    "                heapq.heappush(heap, (distances[neighbor], neighbor))\n",
    "\n",
    "    return distances[end]\n",
    "\n",
    "# Input parsing\n",
    "n, m = map(int, input().split())\n",
    "graph = [[] for _ in range(n)]\n",
    "unsafe = [0] * n\n",
    "\n",
    "for _ in range(m):\n",
    "    u, v, t = map(int, input().split())\n",
    "    graph[u - 1].append((v - 1, t))\n",
    "    graph[v - 1].append((u - 1, t))\n",
    "    unsafe[u - 1] = t\n",
    "    unsafe[v - 1] = t\n",
    "\n",
    "# Calling Dijkstra's algorithm\n",
    "result = dijkstra(graph, 0, n - 1, unsafe)\n",
    "\n",
    "# Printing the result\n",
    "print(result)\n"
   ]
  },
  {
   "cell_type": "code",
   "execution_count": 8,
   "id": "c141dd17",
   "metadata": {},
   "outputs": [
    {
     "name": "stdout",
     "output_type": "stream",
     "text": [
      "2 3\n",
      "1 2 300\n",
      "2 2 100\n",
      "400\n"
     ]
    }
   ],
   "source": [
    "n, d = map(int, input().split())\n",
    "teachers = []\n",
    "for _ in range(n):\n",
    "    di, ti, si = map(int, input().split())\n",
    "    teachers.append((si, di, ti))\n",
    "teachers.sort(reverse=True)\n",
    "schedule = [0] * d\n",
    "for si, di, ti in teachers:\n",
    "    for i in range(di, d):\n",
    "        if not schedule[i]:\n",
    "            schedule[i] = si\n",
    "            break\n",
    "print(sum(schedule))"
   ]
  },
  {
   "cell_type": "code",
   "execution_count": 1,
   "id": "e5c66deb",
   "metadata": {},
   "outputs": [
    {
     "name": "stdout",
     "output_type": "stream",
     "text": [
      "2 3\n",
      "1 2 300\n",
      "2 2 100\n",
      "100\n"
     ]
    }
   ],
   "source": [
    "N, D = list(map(int, input().split()))\n",
    "teachers = []\n",
    "for i in range(N):\n",
    "    arrival_day, lectures, curse_level = list(map(int, input().split()))\n",
    "    teachers.append([arrival_day, lectures, curse_level])\n",
    "def bubble_sort(arr):\n",
    "    for i in range(len(arr) - 1):\n",
    "        for j in range(len(arr) - 1):\n",
    "            if arr[j][2] < arr[j + 1][2]:\n",
    "                arr[j], arr[j + 1] = arr[j + 1], arr[j]\n",
    "    return arr\n",
    "def evaluate(teachers):\n",
    "    total_curse = 0\n",
    "    lecture_schedule = [[-1, -1, -1], [-1, -1, -1]]\n",
    "    for day in range(1, D + 1):\n",
    "        for teacher in teachers:\n",
    "            if teacher[0] == day:\n",
    "                lecture_schedule.append(teacher)\n",
    "        bubble_sort(lecture_schedule)\n",
    "        lecture_schedule[0][1] -= 1\n",
    "        lecture_schedule += [[1, 0, 0] for _ in range(len(lecture_schedule))]\n",
    "        lecture_schedule = [teacher for teacher in lecture_schedule if teacher[1] > 0]\n",
    "    for teacher in lecture_schedule:\n",
    "        if teacher[1] > 0:\n",
    "            total_curse += teacher[2] * teacher[1]\n",
    "    print(total_curse)\n",
    "evaluate(teachers)"
   ]
  },
  {
   "cell_type": "code",
   "execution_count": 12,
   "id": "b08caa2a",
   "metadata": {},
   "outputs": [
    {
     "name": "stdout",
     "output_type": "stream",
     "text": [
      "4 4\n",
      "1 2 3 \n",
      "1 3 2\n",
      "2 4 2\n",
      "3 4 3\n",
      "0\n",
      "5\n"
     ]
    }
   ],
   "source": [
    "import heapq\n",
    "def dijkstra(n, edges, unsafe):\n",
    "    distances = [float('inf')] * (n + 1)\n",
    "    distances[1] = 0\n",
    "    pq = [(0, 1)]\n",
    "    while pq:\n",
    "        time, node = heapq.heappop(pq)\n",
    "        if node == n:\n",
    "            return time\n",
    "        for neighbor, weight in edges[node]:\n",
    "            temp_time = time + weight\n",
    "            while temp_time in unsafe[neighbor]:\n",
    "                temp_time += 1\n",
    "\n",
    "            if temp_time < distances[neighbor]:\n",
    "                distances[neighbor] = temp_time\n",
    "                heapq.heappush(pq, (temp_time, neighbor))\n",
    "    return distances[n]\n",
    "n, m = map(int, input().split())\n",
    "edges = [[] for _ in range(n + 1)]\n",
    "unsafe = {i: set() for i in range(1, n + 1)}\n",
    "for _ in range(m):\n",
    "    x, y, t = map(int, input().split())\n",
    "    edges[x].append((y, t))\n",
    "k = int(input())\n",
    "for _ in range(k):\n",
    "    x, t = map(int, input().split())\n",
    "    unsafe[x].add(t)\n",
    "result = dijkstra(n, edges, unsafe)\n",
    "print(result)"
   ]
  },
  {
   "cell_type": "code",
   "execution_count": null,
   "id": "393ee6c1",
   "metadata": {},
   "outputs": [],
   "source": []
  }
 ],
 "metadata": {
  "kernelspec": {
   "display_name": "Python 3 (ipykernel)",
   "language": "python",
   "name": "python3"
  },
  "language_info": {
   "codemirror_mode": {
    "name": "ipython",
    "version": 3
   },
   "file_extension": ".py",
   "mimetype": "text/x-python",
   "name": "python",
   "nbconvert_exporter": "python",
   "pygments_lexer": "ipython3",
   "version": "3.9.12"
  }
 },
 "nbformat": 4,
 "nbformat_minor": 5
}
